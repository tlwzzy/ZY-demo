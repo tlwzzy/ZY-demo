{
 "cells": [
  {
   "cell_type": "code",
   "execution_count": 1,
   "metadata": {},
   "outputs": [],
   "source": [
    "import numpy as np\n",
    "\n",
    "\n",
    "def mtx_similar(arr1: np.ndarray, arr2: np.ndarray) -> float:\n",
    "    '''\n",
    "    计算矩阵相似度的一种方法。将矩阵展平成向量，计算向量的乘积除以模长。\n",
    "    注意有展平操作。\n",
    "    :param arr1:矩阵1\n",
    "    :param arr2:矩阵2\n",
    "    :return:实际是夹角的余弦值，ret = (cos+1)/2\n",
    "    '''\n",
    "    farr1 = arr1.ravel()\n",
    "    farr2 = arr2.ravel()\n",
    "    len1 = len(farr1)\n",
    "    len2 = len(farr2)\n",
    "    if len1 > len2:\n",
    "        farr1 = farr1[:len2]\n",
    "    else:\n",
    "        farr2 = farr2[:len1]\n",
    "\n",
    "    numer = np.sum(farr1 * farr2)\n",
    "    denom = np.sqrt(np.sum(farr1**2) * np.sum(farr2**2))\n",
    "    similar = numer / denom  # 这实际是夹角的余弦值\n",
    "    return (similar + 1) / 2  # 姑且把余弦函数当线性"
   ]
  },
  {
   "cell_type": "code",
   "execution_count": 4,
   "metadata": {},
   "outputs": [
    {
     "name": "stdout",
     "output_type": "stream",
     "text": [
      "[array([[0, 1, 2],\n",
      "       [3, 4, 5],\n",
      "       [6, 7, 8]]), array([[1, 2, 3],\n",
      "       [4, 5, 6],\n",
      "       [7, 8, 9]]), array([[ 2,  3,  4],\n",
      "       [ 5,  6,  7],\n",
      "       [ 8,  9, 10]]), array([[ 3,  4,  5],\n",
      "       [ 6,  7,  8],\n",
      "       [ 9, 10, 11]]), array([[ 4,  5,  6],\n",
      "       [ 7,  8,  9],\n",
      "       [10, 11, 12]]), array([[ 5,  6,  7],\n",
      "       [ 8,  9, 10],\n",
      "       [11, 12, 13]])]\n"
     ]
    }
   ],
   "source": [
    "#这里是做一个示范，用0到13之间的14个数字组合成了6个矩阵来做演示。\n",
    "mtx_list = []\n",
    "for i in range(6):\n",
    "    mtx_list.append(np.arange(i, i + 9).reshape(3, 3))\n",
    "print(mtx_list)"
   ]
  },
  {
   "cell_type": "code",
   "execution_count": 5,
   "metadata": {},
   "outputs": [
    {
     "name": "stdout",
     "output_type": "stream",
     "text": [
      "[[ 1.          0.9976726   0.99305843  0.98796722  0.98306504  0.97857239]\n",
      " [ 0.9976726   1.          0.99876492  0.99620368  0.99325138  0.99030015]\n",
      " [ 0.99305843  0.99876492  1.          0.99929779  0.997784    0.99597357]\n",
      " [ 0.98796722  0.99620368  0.99929779  1.          0.99957614  0.99863204]\n",
      " [ 0.98306504  0.99325138  0.997784    0.99957614  1.          0.9997309 ]\n",
      " [ 0.97857239  0.99030015  0.99597357  0.99863204  0.9997309   1.        ]]\n"
     ]
    }
   ],
   "source": [
    "#应用上面的函数来算出相似度矩阵。\n",
    "l = len(mtx_list)\n",
    "sim_mtx = np.zeros((l, l))\n",
    "for i in range(l):\n",
    "    for j in range(l):\n",
    "        sim_mtx[i][j] = mtx_similar(mtx_list[i], mtx_list[j])\n",
    "print(sim_mtx)"
   ]
  },
  {
   "cell_type": "code",
   "execution_count": 6,
   "metadata": {},
   "outputs": [
    {
     "name": "stdout",
     "output_type": "stream",
     "text": [
      "[[ 0.          0.9976726   0.99305843  0.98796722  0.98306504  0.97857239]\n",
      " [ 0.9976726   0.          0.99876492  0.99620368  0.99325138  0.99030015]\n",
      " [ 0.99305843  0.99876492  0.          0.99929779  0.997784    0.99597357]\n",
      " [ 0.98796722  0.99620368  0.99929779  0.          0.99957614  0.99863204]\n",
      " [ 0.98306504  0.99325138  0.997784    0.99957614  0.          0.9997309 ]\n",
      " [ 0.97857239  0.99030015  0.99597357  0.99863204  0.9997309   0.        ]]\n"
     ]
    }
   ],
   "source": [
    "#把结果在减去单位阵\n",
    "sim_mtx = sim_mtx - np.eye(l)\n",
    "print(sim_mtx)"
   ]
  },
  {
   "cell_type": "code",
   "execution_count": null,
   "metadata": {},
   "outputs": [],
   "source": []
  }
 ],
 "metadata": {
  "kernelspec": {
   "display_name": "Python 3",
   "language": "python",
   "name": "python3"
  },
  "language_info": {
   "codemirror_mode": {
    "name": "ipython",
    "version": 3
   },
   "file_extension": ".py",
   "mimetype": "text/x-python",
   "name": "python",
   "nbconvert_exporter": "python",
   "pygments_lexer": "ipython3",
   "version": "3.7.0"
  }
 },
 "nbformat": 4,
 "nbformat_minor": 2
}
